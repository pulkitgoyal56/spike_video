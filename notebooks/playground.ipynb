{
 "cells": [
  {
   "cell_type": "code",
   "execution_count": 1,
   "id": "d11dc250-2e3e-4654-ad27-f9b76e33568b",
   "metadata": {},
   "outputs": [],
   "source": [
    "import sys\n",
    "sys.path.insert(1, '..\\src')"
   ]
  },
  {
   "cell_type": "code",
   "execution_count": 2,
   "id": "0ca8884f-f6fa-4f3e-a2c6-18de325579d6",
   "metadata": {},
   "outputs": [],
   "source": [
    "from spike_video.spike_video import SpikeVideo"
   ]
  },
  {
   "cell_type": "code",
   "execution_count": 3,
   "id": "671d31e7-f2e1-42d2-b76e-b737ac7fbbdc",
   "metadata": {},
   "outputs": [
    {
     "name": "stdout",
     "output_type": "stream",
     "text": [
      "> Estimated Video Length ~ 18.00s @ 100.0 fps  | [10.000s, 100.000s] @ 5x <r> -- `.temp/__temp__spike__.mp4`\n",
      "> Estimated Video Length ~ 18.00s @ 100.0 fps  | [10.000s, 100.000s] @ 5x <r> -- `.temp/__temp__raster__.mp4`\n",
      "> Estimated Video Length ~ 18.00s @ 100.0 fps  | [10.000s, 100.000s] @ 5x <r> -- `.temp/__temp__histogram__.mp4`\n",
      "> Estimated Audio Length ~ 18.00s @ 125000 afps | [10.000s, 100.000s] @ 5x     -- `.temp/__temp__.wav`\n"
     ]
    },
    {
     "name": "stderr",
     "output_type": "stream",
     "text": [
      "chunk:   7%|████▍                                                          | 28/397 [00:00<00:01, 210.55it/s, now=None]"
     ]
    },
    {
     "name": "stdout",
     "output_type": "stream",
     "text": [
      "Moviepy - Building video .temp/__output__.mp4.\n",
      "MoviePy - Writing audio in __output__TEMP_MPY_wvf_snd.mp3\n"
     ]
    },
    {
     "name": "stderr",
     "output_type": "stream",
     "text": [
      "t:   0%|                                                                    | 3/1800 [00:00<01:11, 25.21it/s, now=None]"
     ]
    },
    {
     "name": "stdout",
     "output_type": "stream",
     "text": [
      "MoviePy - Done.\n",
      "Moviepy - Writing video .temp/__output__.mp4\n",
      "\n"
     ]
    },
    {
     "name": "stderr",
     "output_type": "stream",
     "text": [
      "                                                                                                                       "
     ]
    },
    {
     "name": "stdout",
     "output_type": "stream",
     "text": [
      "Moviepy - Done !\n",
      "Moviepy - video ready .temp/__output__.mp4\n"
     ]
    },
    {
     "name": "stderr",
     "output_type": "stream",
     "text": [
      "\r"
     ]
    }
   ],
   "source": [
    "SpikeVideo(\"../data/cell-ID-6.mat\", \"../data/GB0002 22-05-31 11-03-34__.avi\").generate_video(t_b=100, t_a=10, speed=5, t_w=(-40e-3, 40e-3), bin_size=2.5e-3, cache=False)"
   ]
  }
 ],
 "metadata": {
  "kernelspec": {
   "display_name": "Python 3",
   "language": "python",
   "name": "python3"
  },
  "language_info": {
   "codemirror_mode": {
    "name": "ipython",
    "version": 3
   },
   "file_extension": ".py",
   "mimetype": "text/x-python",
   "name": "python",
   "nbconvert_exporter": "python",
   "pygments_lexer": "ipython3",
   "version": "3.8.8"
  }
 },
 "nbformat": 4,
 "nbformat_minor": 5
}
