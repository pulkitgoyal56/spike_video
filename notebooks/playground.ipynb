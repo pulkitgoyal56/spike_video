{
 "cells": [
  {
   "cell_type": "code",
   "execution_count": 1,
   "id": "d11dc250-2e3e-4654-ad27-f9b76e33568b",
   "metadata": {},
   "outputs": [],
   "source": [
    "import sys\n",
    "sys.path.insert(1, '..\\src')"
   ]
  },
  {
   "cell_type": "code",
   "execution_count": 2,
   "id": "0ca8884f-f6fa-4f3e-a2c6-18de325579d6",
   "metadata": {},
   "outputs": [],
   "source": [
    "from spike_video.spike_video import SpikeVideo"
   ]
  },
  {
   "cell_type": "markdown",
   "id": "ea91f7b6-287c-4435-a302-8c4e8ecedd95",
   "metadata": {},
   "source": [
    "---"
   ]
  },
  {
   "cell_type": "code",
   "execution_count": 3,
   "id": "035321cf-256f-411d-a19d-eb639bf26d8c",
   "metadata": {},
   "outputs": [
    {
     "name": "stdout",
     "output_type": "stream",
     "text": [
      "> Estimated Audio Length ~ 20.00s @ 12500 afps | [10.000s, 20.000s] @ 0.5x     -- `.temp/__temp__.wav`\n",
      "> Estimated Video Length ~ 20.00s @    24 fps  | [10.000s, 20.000s] @ 0.5x <r> -- `.temp/__temp__.mp4`\n"
     ]
    },
    {
     "name": "stderr",
     "output_type": "stream",
     "text": [
      "chunk:   9%|█████▊                                                         | 41/442 [00:00<00:01, 383.19it/s, now=None]"
     ]
    },
    {
     "name": "stdout",
     "output_type": "stream",
     "text": [
      "Moviepy - Building video spike.mp4.\n",
      "MoviePy - Writing audio in spikeTEMP_MPY_wvf_snd.mp3\n"
     ]
    },
    {
     "name": "stderr",
     "output_type": "stream",
     "text": [
      "t:   1%|▍                                                                    | 3/480 [00:00<00:16, 29.41it/s, now=None]"
     ]
    },
    {
     "name": "stdout",
     "output_type": "stream",
     "text": [
      "MoviePy - Done.\n",
      "Moviepy - Writing video spike.mp4\n",
      "\n"
     ]
    },
    {
     "name": "stderr",
     "output_type": "stream",
     "text": [
      "                                                                                                                       \r"
     ]
    },
    {
     "name": "stdout",
     "output_type": "stream",
     "text": [
      "Moviepy - Done !\n",
      "Moviepy - video ready spike.mp4\n"
     ]
    }
   ],
   "source": [
    "SpikeVideo(\"../data/cell-ID-6.mat\", \"../data/GB0002 22-05-31 11-03-34_.avi\").generate(20, 10, 0.5)"
   ]
  }
 ],
 "metadata": {
  "kernelspec": {
   "display_name": "Python 3",
   "language": "python",
   "name": "python3"
  },
  "language_info": {
   "codemirror_mode": {
    "name": "ipython",
    "version": 3
   },
   "file_extension": ".py",
   "mimetype": "text/x-python",
   "name": "python",
   "nbconvert_exporter": "python",
   "pygments_lexer": "ipython3",
   "version": "3.8.8"
  }
 },
 "nbformat": 4,
 "nbformat_minor": 5
}
